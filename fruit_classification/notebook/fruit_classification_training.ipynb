{
 "cells": [
  {
   "cell_type": "code",
   "execution_count": 8,
   "id": "91684b3e",
   "metadata": {},
   "outputs": [
    {
     "name": "stdout",
     "output_type": "stream",
     "text": [
      "📂 Aktueller Notebook-Pfad: /workspaces/AI_Project_Fruits/fruit_classification/notebook\n"
     ]
    }
   ],
   "source": [
    "import os\n",
    "print(\"📂 Aktueller Notebook-Pfad:\", os.getcwd())\n"
   ]
  },
  {
   "cell_type": "markdown",
   "id": "7add24c7",
   "metadata": {},
   "source": [
    "# 🍎 Fruchtklassifikation mit Transfer Learning (PyTorch + ResNet18)\n",
    "\n",
    "## Projektbeschreibung\n",
    "In diesem Projekt trainieren wir ein Bildklassifikationsmodell, das fünf Obstsorten erkennt:\n",
    "- Apfel\n",
    "- Banane\n",
    "- Erdbeere\n",
    "- Kirsche\n",
    "- Orange\n",
    "\n",
    "Wir nutzen Transfer Learning mit einem vortrainierten ResNet18-Modell von torchvision.\n"
   ]
  },
  {
   "cell_type": "code",
   "execution_count": 9,
   "id": "28b271a0",
   "metadata": {},
   "outputs": [
    {
     "name": "stdout",
     "output_type": "stream",
     "text": [
      "Verwende Gerät: cpu\n"
     ]
    }
   ],
   "source": [
    "import os\n",
    "import torch\n",
    "import torch.nn as nn\n",
    "import torch.optim as optim\n",
    "from torchvision import datasets, transforms, models\n",
    "from torch.utils.data import DataLoader\n",
    "import matplotlib.pyplot as plt\n",
    "\n",
    "# Gerät wählen\n",
    "device = torch.device(\"cuda\" if torch.cuda.is_available() else \"cpu\")\n",
    "print(\"Verwende Gerät:\", device)\n"
   ]
  },
  {
   "cell_type": "markdown",
   "id": "8d9bd30d",
   "metadata": {},
   "source": [
    "## 📂 Daten laden & vorbereiten\n",
    "Wir definieren die Datenpfade und setzen die Transformationspipeline zur Bildvorverarbeitung.\n"
   ]
  },
  {
   "cell_type": "code",
   "execution_count": 10,
   "id": "10993f21",
   "metadata": {},
   "outputs": [
    {
     "name": "stdout",
     "output_type": "stream",
     "text": [
      "📂 Aktuelles Notebook-Verzeichnis: /workspaces/AI_Project_Fruits/fruit_classification/notebook\n",
      "Train-Pfad existiert? True\n",
      "Test-Pfad existiert? True\n",
      "Inhalt train/: ['Banane', 'Orange', 'Kirsche', 'Apfel', 'Erdbeere']\n",
      "Inhalt test/: ['Banane', 'Orange', 'Kirsche', 'Apfel', 'Erdbeere']\n",
      "✅ Klassen: ['Apfel', 'Banane', 'Erdbeere', 'Kirsche', 'Orange']\n"
     ]
    }
   ],
   "source": [
    "import os\n",
    "from torchvision import datasets, transforms\n",
    "from torch.utils.data import DataLoader\n",
    "\n",
    "print(\"📂 Aktuelles Notebook-Verzeichnis:\", os.getcwd())\n",
    "data_dir = \"../dataset\"   # ← hier angepasst\n",
    "\n",
    "train_path = os.path.join(data_dir, \"train\")\n",
    "test_path  = os.path.join(data_dir, \"test\")\n",
    "\n",
    "print(\"Train-Pfad existiert?\", os.path.isdir(train_path))\n",
    "print(\"Test-Pfad existiert?\",  os.path.isdir(test_path))\n",
    "print(\"Inhalt train/:\", os.listdir(train_path) if os.path.isdir(train_path) else \"– nicht gefunden\")\n",
    "print(\"Inhalt test/:\",  os.listdir(test_path)  if os.path.isdir(test_path) else \"– nicht gefunden\")\n",
    "\n",
    "# wenn beides True ist, fahre fort:\n",
    "train_data = datasets.ImageFolder(train_path, transform=transforms.Compose([\n",
    "    transforms.Resize((224,224)),\n",
    "    transforms.RandomHorizontalFlip(),\n",
    "    transforms.RandomRotation(10),\n",
    "    transforms.ToTensor(),\n",
    "    transforms.Normalize([0.485,0.456,0.406],[0.229,0.224,0.225])\n",
    "]))\n",
    "val_data = datasets.ImageFolder(test_path, transform=transforms.Compose([\n",
    "    transforms.Resize((224,224)),\n",
    "    transforms.ToTensor(),\n",
    "    transforms.Normalize([0.485,0.456,0.406],[0.229,0.224,0.225])\n",
    "]))\n",
    "\n",
    "train_loader = DataLoader(train_data, batch_size=32, shuffle=True)\n",
    "val_loader   = DataLoader(val_data,   batch_size=32)\n",
    "\n",
    "print(\"✅ Klassen:\", train_data.classes)\n"
   ]
  },
  {
   "cell_type": "markdown",
   "id": "063d43b8",
   "metadata": {},
   "source": [
    "## 🧠 Klassifizierungsmodell definieren\n",
    "Wir definieren ein Transfer-Learning-Modell auf Basis von ResNet18.\n"
   ]
  },
  {
   "cell_type": "code",
   "execution_count": 13,
   "id": "a768df79",
   "metadata": {},
   "outputs": [
    {
     "ename": "NameError",
     "evalue": "name 'class_names' is not defined",
     "output_type": "error",
     "traceback": [
      "\u001b[31m---------------------------------------------------------------------------\u001b[39m",
      "\u001b[31mNameError\u001b[39m                                 Traceback (most recent call last)",
      "\u001b[36mCell\u001b[39m\u001b[36m \u001b[39m\u001b[32mIn[13]\u001b[39m\u001b[32m, line 10\u001b[39m\n\u001b[32m      7\u001b[39m     \u001b[38;5;28;01mdef\u001b[39;00m\u001b[38;5;250m \u001b[39m\u001b[34mforward\u001b[39m(\u001b[38;5;28mself\u001b[39m, x):\n\u001b[32m      8\u001b[39m         \u001b[38;5;28;01mreturn\u001b[39;00m \u001b[38;5;28mself\u001b[39m.model(x)\n\u001b[32m---> \u001b[39m\u001b[32m10\u001b[39m model = FruitClassifier(num_classes=\u001b[38;5;28mlen\u001b[39m(\u001b[43mclass_names\u001b[49m)).to(device)\n",
      "\u001b[31mNameError\u001b[39m: name 'class_names' is not defined"
     ]
    }
   ],
   "source": [
    "class FruitClassifier(nn.Module):\n",
    "    def __init__(self, num_classes):\n",
    "        super(FruitClassifier, self).__init__()\n",
    "        self.model = models.resnet18(weights=models.ResNet18_Weights.DEFAULT)\n",
    "        self.model.fc = nn.Linear(self.model.fc.in_features, num_classes)\n",
    "\n",
    "    def forward(self, x):\n",
    "        return self.model(x)\n",
    "\n",
    "model = FruitClassifier(num_classes=len(class_names)).to(device)\n"
   ]
  },
  {
   "cell_type": "markdown",
   "id": "63f9f870",
   "metadata": {},
   "source": [
    "## ⚙️ Trainingskonfiguration\n",
    "Wir definieren die Loss-Funktion, den Optimierer und den Lernraten-Scheduler.\n"
   ]
  },
  {
   "cell_type": "code",
   "execution_count": null,
   "id": "24200575",
   "metadata": {},
   "outputs": [],
   "source": [
    "criterion = nn.CrossEntropyLoss()\n",
    "optimizer = optim.SGD(model.parameters(), lr=0.001, momentum=0.9)\n",
    "scheduler = optim.lr_scheduler.StepLR(optimizer, step_size=7, gamma=0.1)\n"
   ]
  },
  {
   "cell_type": "markdown",
   "id": "38a6e038",
   "metadata": {},
   "source": [
    "## 🔁 Trainings- & Validierungsschleife\n",
    "Wir erstellen eine Funktion, um das Modell über mehrere Epochen zu trainieren und zu validieren.\n"
   ]
  },
  {
   "cell_type": "code",
   "execution_count": null,
   "id": "52ab5965",
   "metadata": {},
   "outputs": [],
   "source": [
    "def train_model(model, criterion, optimizer, scheduler, num_epochs=10):\n",
    "    best_model_wts = model.state_dict()\n",
    "    best_acc = 0.0\n",
    "\n",
    "    for epoch in range(num_epochs):\n",
    "        print(f\"Epoche {epoch+1}/{num_epochs}\")\n",
    "        print(\"-\" * 10)\n",
    "\n",
    "        for phase in ['train', 'val']:\n",
    "            model.train() if phase == 'train' else model.eval()\n",
    "            dataloader = train_loader if phase == 'train' else val_loader\n",
    "\n",
    "            running_loss = 0.0\n",
    "            running_corrects = 0\n",
    "\n",
    "            for inputs, labels in dataloader:\n",
    "                inputs = inputs.to(device)\n",
    "                labels = labels.to(device)\n",
    "\n",
    "                optimizer.zero_grad()\n",
    "\n",
    "                with torch.set_grad_enabled(phase == 'train'):\n",
    "                    outputs = model(inputs)\n",
    "                    _, preds = torch.max(outputs, 1)\n",
    "                    loss = criterion(outputs, labels)\n",
    "\n",
    "                    if phase == 'train':\n",
    "                        loss.backward()\n",
    "                        optimizer.step()\n",
    "\n",
    "                running_loss += loss.item() * inputs.size(0)\n",
    "                running_corrects += torch.sum(preds == labels.data)\n",
    "\n",
    "            if phase == 'train':\n",
    "                scheduler.step()\n",
    "\n",
    "            epoch_loss = running_loss / len(dataloader.dataset)\n",
    "            epoch_acc = running_corrects.double() / len(dataloader.dataset)\n",
    "\n",
    "            print(f\"{phase} Loss: {epoch_loss:.4f} Acc: {epoch_acc:.4f}\")\n",
    "\n",
    "            if phase == 'val' and epoch_acc > best_acc:\n",
    "                best_acc = epoch_acc\n",
    "                best_model_wts = model.state_dict()\n",
    "\n",
    "    print(f\"Bestes Modell mit Genauigkeit: {best_acc:.4f}\")\n",
    "    model.load_state_dict(best_model_wts)\n",
    "    return model\n"
   ]
  },
  {
   "cell_type": "markdown",
   "id": "14fb2179",
   "metadata": {},
   "source": [
    "## 🏋️ Modell trainieren\n",
    "Wir starten das Training des Modells über 10 Epochen.\n"
   ]
  },
  {
   "cell_type": "code",
   "execution_count": null,
   "id": "406f1d8d",
   "metadata": {},
   "outputs": [],
   "source": [
    "model = train_model(model, criterion, optimizer, scheduler, num_epochs=10)\n"
   ]
  },
  {
   "cell_type": "markdown",
   "id": "cf26580b",
   "metadata": {},
   "source": [
    "## 💾 Modell speichern\n",
    "Wir speichern das trainierte Modell als `.pt`-Datei.\n"
   ]
  },
  {
   "cell_type": "code",
   "execution_count": null,
   "id": "1aef201a",
   "metadata": {},
   "outputs": [],
   "source": [
    "model_path = \"../fruit_classification/fruit_model.pt\"\n",
    "torch.save(model.state_dict(), model_path)\n",
    "print(\"✅ Modell gespeichert unter:\", model_path)\n"
   ]
  },
  {
   "cell_type": "markdown",
   "id": "266b5ef7",
   "metadata": {},
   "source": [
    "## 📊 Modell auf Testdaten evaluieren\n",
    "Wir berechnen die Gesamtgenauigkeit des Modells auf den Testdaten.\n"
   ]
  },
  {
   "cell_type": "code",
   "execution_count": null,
   "id": "598da54b",
   "metadata": {},
   "outputs": [],
   "source": [
    "model.eval()\n",
    "correct = 0\n",
    "total = 0\n",
    "\n",
    "with torch.no_grad():\n",
    "    for inputs, labels in val_loader:\n",
    "        inputs = inputs.to(device)\n",
    "        labels = labels.to(device)\n",
    "        outputs = model(inputs)\n",
    "        _, predicted = torch.max(outputs.data, 1)\n",
    "        total += labels.size(0)\n",
    "        correct += (predicted == labels).sum().item()\n",
    "\n",
    "print(f\"Genauigkeit auf Testdaten: {100 * correct / total:.2f}%\")\n"
   ]
  }
 ],
 "metadata": {
  "kernelspec": {
   "display_name": "Python 3",
   "language": "python",
   "name": "python3"
  },
  "language_info": {
   "codemirror_mode": {
    "name": "ipython",
    "version": 3
   },
   "file_extension": ".py",
   "mimetype": "text/x-python",
   "name": "python",
   "nbconvert_exporter": "python",
   "pygments_lexer": "ipython3",
   "version": "3.12.1"
  }
 },
 "nbformat": 4,
 "nbformat_minor": 5
}
